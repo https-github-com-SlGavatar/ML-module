{
  "nbformat": 4,
  "nbformat_minor": 0,
  "metadata": {
    "colab": {
      "name": "Copy of Untitled0.ipynb",
      "provenance": [],
      "collapsed_sections": [],
      "include_colab_link": true
    },
    "kernelspec": {
      "name": "python3",
      "display_name": "Python 3"
    },
    "accelerator": "GPU"
  },
  "cells": [
    {
      "cell_type": "markdown",
      "metadata": {
        "id": "view-in-github",
        "colab_type": "text"
      },
      "source": [
        "<a href=\"https://colab.research.google.com/github/ammarshaalan/datasciencecoursera/blob/master/ML_module.ipynb\" target=\"_parent\"><img src=\"https://colab.research.google.com/assets/colab-badge.svg\" alt=\"Open In Colab\"/></a>"
      ]
    },
    {
      "cell_type": "code",
      "metadata": {
        "id": "GtA1WX3pbvBn",
        "colab_type": "code",
        "colab": {}
      },
      "source": [
        "%tensorflow_version 2.x  \n",
        "import sklearn \n",
        "from sklearn.utils import shuffle\n",
        "from sklearn.neighbors import KNeighborsClassifier\n",
        "import pandas as pd\n",
        "import numpy as np\n",
        "from sklearn import linear_model, preprocessing\n",
        "from __future__ import absolute_import, division, print_function, unicode_literals\n",
        "\n",
        "\n",
        "import tensorflow as tf\n",
        "\n",
        "import csv\n",
        "\n",
        "import random\n"
      ],
      "execution_count": 2,
      "outputs": []
    },
    {
      "cell_type": "code",
      "metadata": {
        "id": "si1g3lHh9xiz",
        "colab_type": "code",
        "colab": {}
      },
      "source": [
        "\"\"\"\n",
        "\n",
        "import io\n",
        "from google.colab import files\n",
        "uploaded = files.upload()\n",
        "df2 = pd.read_csv(io.BytesIO(uploaded['file.csv']))\n",
        "\"\"\"\n",
        "##df.to_csv('data2.csv', index=False)\n",
        "\n",
        "#from google.colab import files\n",
        "#files.download('data2.csv') \n"
      ],
      "execution_count": null,
      "outputs": []
    },
    {
      "cell_type": "code",
      "metadata": {
        "id": "0Rft8gnS_ftH",
        "colab_type": "code",
        "colab": {
          "base_uri": "https://localhost:8080/",
          "height": 272
        },
        "outputId": "4cbafca4-8da7-4ed9-d8c3-6f209ee2df41"
      },
      "source": [
        "r=7\n",
        "t=600\n",
        "arr =[[0 for x in range(r)] for y in range(t)]\n",
        "columns = [\"sensor1\", \"sensor2\", \"sensor3\" , \"sensor4\" , \"sensor5\", \"sensor6\", \"output\"]\n",
        "\n",
        "for i in range(0, 60):\n",
        "    arr[i][0]=random.randrange(900, 930, 1)\n",
        "    arr[i][1]=random.randrange(730, 760, 1)\n",
        "    arr[i][2]=random.randrange(720, 750, 1)\n",
        "    arr[i][3]=random.randrange(620, 650, 1)\n",
        "    arr[i][4]=random.randrange(760, 770, 1)\n",
        "    arr[i][5]=random.randrange(-20, 0, 1)\n",
        "    arr[i][6]='أ'\n",
        "\n",
        "for i in range(60,120):\n",
        "\n",
        "    arr[i][0]=random.randrange(845, 865, 1)\n",
        "    arr[i][1]=random.randrange(751, 767, 1)\n",
        "    arr[i][2]=random.randrange(545, 570, 1)\n",
        "    arr[i][3]=random.randrange(730, 760, 1)\n",
        "    arr[i][4]=random.randrange(760, 770, 1)\n",
        "    arr[i][5]=0\n",
        "    arr[i][6]='ب'\n",
        "\n",
        "for i in range(120,180):\n",
        "\n",
        "    arr[i][0]=random.randrange(750, 770, 1)\n",
        "    arr[i][1]=random.randrange(595, 615, 1)\n",
        "    arr[i][2]=random.randrange(560, 580, 1)\n",
        "    arr[i][3]=random.randrange(720, 735, 1)\n",
        "    arr[i][4]=random.randrange(760, 770, 1)\n",
        "    arr[i][5]=random.randrange(-85, -70, 1)\n",
        "    arr[i][6]='ت'\n",
        "\n",
        "for i in range(180,240):\n",
        "  \n",
        "\n",
        "    arr[i][0]=random.randrange(785, 800, 1)\n",
        "    arr[i][1]=random.randrange(735, 750, 1)\n",
        "    arr[i][2]=random.randrange(680, 700, 1)\n",
        "    arr[i][3]=random.randrange(685, 710, 1)\n",
        "    arr[i][4]=random.randrange(760, 770, 1)\n",
        "    arr[i][5]=random.randrange(-60, -55, 1)\n",
        "    arr[i][6]='ج'\n",
        "\n",
        "for i in range(240,300):\n",
        "\n",
        "\n",
        "    arr[i][0]=random.randrange(840, 860, 1)\n",
        "    arr[i][1]=random.randrange(808, 820, 1)\n",
        "    arr[i][2]=random.randrange(685, 710, 1)\n",
        "    arr[i][3]=random.randrange(650, 670, 1)\n",
        "    arr[i][4]=random.randrange(760, 770, 1)\n",
        "    arr[i][5]=random.randrange(-62, -58, 1)\n",
        "    arr[i][6]='د'\n",
        "\n",
        "for i in range(300,360):\n",
        "\n",
        "\n",
        "    arr[i][0]=random.randrange(750, 770, 1)\n",
        "    arr[i][1]=random.randrange(670, 695, 1)\n",
        "    arr[i][2]=random.randrange(600, 620, 1)\n",
        "    arr[i][3]=random.randrange(670, 690, 1)\n",
        "    arr[i][4]=random.randrange(760, 770, 1)\n",
        "    arr[i][5]=random.randrange(-45, -35, 1)\n",
        "    arr[i][6]='س'\n",
        "\n",
        "for i in range(360,420):\n",
        "\n",
        "\n",
        "    arr[i][0]=random.randrange(870, 880, 1)\n",
        "    arr[i][1]=random.randrange(800, 820, 1)\n",
        "    arr[i][2]=random.randrange(750, 770, 1)\n",
        "    arr[i][3]=random.randrange(800, 820, 1)\n",
        "    arr[i][4]=random.randrange(760, 770, 1)\n",
        "    arr[i][5]=random.randrange(-90, -80, 1)\n",
        "    arr[i][6]='ص'\n",
        "\n",
        "for i in range(420,480):\n",
        "\n",
        "\n",
        "    arr[i][0]=random.randrange(760, 780, 1)\n",
        "    arr[i][1]=random.randrange(800, 820, 1)\n",
        "    arr[i][2]=random.randrange(800, 820, 1)\n",
        "    arr[i][3]=random.randrange(730, 750, 1)\n",
        "    arr[i][4]=random.randrange(760, 770, 1)\n",
        "    arr[i][5]=0\n",
        "    arr[i][6]='م'\n",
        "\n",
        "for i in range(480,540):\n",
        "\n",
        "\n",
        "    arr[i][0]=random.randrange(810, 840, 1)\n",
        "    arr[i][1]=random.randrange(790, 820, 1)\n",
        "    arr[i][2]=random.randrange(590, 610, 1)\n",
        "    arr[i][3]=random.randrange(640, 660, 1)\n",
        "    arr[i][4]=random.randrange(760, 770, 1)\n",
        "    arr[i][5]=random.randrange(-90, -80, 1)\n",
        "    arr[i][6]='ل'\n",
        "\n",
        "for i in range(540,600):\n",
        "\n",
        "\n",
        "    arr[i][0]=random.randrange(810, 840, 1)\n",
        "    arr[i][1]=random.randrange(790, 820, 1)\n",
        "    arr[i][2]=random.randrange(590, 610, 1)\n",
        "    arr[i][3]=random.randrange(640, 660, 1)\n",
        "    arr[i][4]=random.randrange(760, 770, 1)\n",
        "    arr[i][5]=random.randrange(-20, 0, 1)\n",
        "    arr[i][6]='ي'\n",
        "\n",
        "\n",
        "    \n",
        "\n",
        "\n",
        "\n"
      ],
      "execution_count": 11,
      "outputs": [
        {
          "output_type": "stream",
          "text": [
            "     sensor1  sensor2  sensor3  sensor4  sensor5  sensor6 output\n",
            "0        779      800      809      747      766        0      م\n",
            "1        822      818      596      656      764      -89      ل\n",
            "2        775      819      814      741      767        0      م\n",
            "3        825      790      595      652      769       -3      ي\n",
            "4        847      812      692      652      763      -61      د\n",
            "..       ...      ...      ...      ...      ...      ...    ...\n",
            "595      846      813      700      669      768      -59      د\n",
            "596      909      737      729      639      761       -1      أ\n",
            "597      817      798      595      652      768       -3      ي\n",
            "598      762      600      561      731      767      -85      ت\n",
            "599      776      818      812      730      761        0      م\n",
            "\n",
            "[600 rows x 7 columns]\n"
          ],
          "name": "stdout"
        }
      ]
    },
    {
      "cell_type": "code",
      "metadata": {
        "id": "7wli3p9E-Z1h",
        "colab_type": "code",
        "colab": {}
      },
      "source": [
        "df = pd.DataFrame(data=arr, columns=columns)\n",
        "df = df.sample(frac=1).reset_index(drop=True)\n",
        "\n",
        "msk = np.random.rand(len(df)) < 0.80\n",
        "train = df[msk]\n",
        "\n",
        "test = df[~msk]\n",
        "\n",
        "print(df)"
      ],
      "execution_count": null,
      "outputs": []
    },
    {
      "cell_type": "code",
      "metadata": {
        "id": "YMdbSTIH9yfl",
        "colab_type": "code",
        "colab": {}
      },
      "source": [
        "train_y = train.pop('output')\n",
        "test_y = test.pop('output')\n",
        "\n",
        "\n"
      ],
      "execution_count": 3,
      "outputs": []
    },
    {
      "cell_type": "code",
      "metadata": {
        "id": "3mTpdhELKvSx",
        "colab_type": "code",
        "colab": {}
      },
      "source": [
        "print(test_y)\n"
      ],
      "execution_count": null,
      "outputs": []
    },
    {
      "cell_type": "code",
      "metadata": {
        "id": "J0avwT0m-LbP",
        "colab_type": "code",
        "colab": {
          "base_uri": "https://localhost:8080/",
          "height": 217
        },
        "outputId": "561680da-f8bd-42da-c876-3012a164cbed"
      },
      "source": [
        "\n",
        "le = preprocessing.LabelEncoder()\n",
        "train_y = le.fit_transform(list(train_y))\n",
        "le = preprocessing.LabelEncoder()\n",
        "test_y = le.fit_transform(list(test_y))\n",
        "\n",
        "\n",
        "print(train_y)\n",
        "\n",
        "def input_fn(features, labels, training=True, batch_size=256):\n",
        "    # Convert the inputs to a Dataset.\n",
        "    dataset = tf.data.Dataset.from_tensor_slices((dict(features), labels))\n",
        "\n",
        "    # Shuffle and repeat if you are in training mode.\n",
        "    if training:\n",
        "        dataset = dataset.shuffle(1000).repeat()\n",
        "    \n",
        "    return dataset.batch(batch_size)\n",
        "\n",
        "    # Feature columns describe how to use the input.\n",
        "my_feature_columns = []\n",
        "for key in train.keys():\n",
        "    my_feature_columns.append(tf.feature_column.numeric_column(key=key))\n",
        "   \n"
      ],
      "execution_count": 5,
      "outputs": [
        {
          "output_type": "stream",
          "text": [
            "[0 0 3 0 2 6 7 5 0 5 5 1 2 0 4 4 4 0 5 9 3 5 8 3 7 4 4 1 1 1 5 4 0 9 8 1 9\n",
            " 3 9 5 4 8 8 8 1 3 8 3 9 5 7 8 5 5 8 1 9 8 4 9 3 4 5 3 4 1 2 3 9 0 5 2 4 0\n",
            " 1 3 4 6 9 1 8 8 3 3 0 0 2 6 2 4 5 4 1 0 8 2 6 5 1 9 6 3 4 2 4 6 1 8 4 8 4\n",
            " 0 0 5 1 9 5 4 1 3 5 7 4 0 1 5 2 0 7 5 0 1 2 8 5 4 5 5 5 1 4 1 0 1 1 8 3 4\n",
            " 9 8 6 5 2 5 0 1 8 1 2 6 4 0 3 0 1 3 0 5 4 0 5 0 5 1 3 1 9 3 4 4 8 5 0 3 3\n",
            " 0 6 1 4 3 7 7 6 8 4 0 7 5 1 8 7 7 7 6 5 0 8 7 3 6 1 0 3 4 4 8 1 5 0 0 8 8\n",
            " 7 3 6 5 0 1 3 7 3 5 3 6 5 2 1 8 9 3 3 5 3 3 8 9 7 1 0 1 4 1 5 4 0 8 3 0 0\n",
            " 2 0 5 8 1 4 9 4 0 2 3 1 3 0 9 1 4 0 4 9 9 6 4 6 9 9 6 4 3 6 3 0 5 9 1 9 7\n",
            " 1 6 0 6 9 5 0 3 4 2 4 4 8 9 5 7 4 1 7 8 1 1 9 7 4 5 3 0 0 2 5 7 1 8 6 2 4\n",
            " 2 6 4 8 3 5 3 3 0 4 9 9 3 2 1 5 2 9 1 8 8 2 0 8 7 5 6 8 3 2 5 4 0 3 1 8 4\n",
            " 8 2 3 3 2 3 0 8 1 1 3 8 6]\n"
          ],
          "name": "stdout"
        }
      ]
    },
    {
      "cell_type": "code",
      "metadata": {
        "id": "NWSKeYxQA2sA",
        "colab_type": "code",
        "colab": {
          "base_uri": "https://localhost:8080/",
          "height": 1000
        },
        "outputId": "c85f3e16-36ce-4729-90c2-02ac368b2f84"
      },
      "source": [
        "# Build a DNN with 3 hidden layers with 420, 105 and 30 hidden nodes each.\n",
        "classifier = tf.estimator.DNNClassifier(\n",
        "    feature_columns=my_feature_columns,\n",
        "    # Three hidden layers of 420, 105 and 30 nodes respectively.\n",
        "    hidden_units=[420,105,30],\n",
        "    # The model must choose between 10 classes.\n",
        "    n_classes=10)\n",
        "\n",
        "classifier.train(\n",
        "    input_fn=lambda: input_fn(train, train_y, training=True),\n",
        "    steps=5000)\n",
        "# We include a lambda to avoid creating an inner function previously"
      ],
      "execution_count": 6,
      "outputs": [
        {
          "output_type": "stream",
          "text": [
            "INFO:tensorflow:Using default config.\n",
            "WARNING:tensorflow:Using temporary folder as model directory: /tmp/tmp05z9v_y7\n",
            "INFO:tensorflow:Using config: {'_model_dir': '/tmp/tmp05z9v_y7', '_tf_random_seed': None, '_save_summary_steps': 100, '_save_checkpoints_steps': None, '_save_checkpoints_secs': 600, '_session_config': allow_soft_placement: true\n",
            "graph_options {\n",
            "  rewrite_options {\n",
            "    meta_optimizer_iterations: ONE\n",
            "  }\n",
            "}\n",
            ", '_keep_checkpoint_max': 5, '_keep_checkpoint_every_n_hours': 10000, '_log_step_count_steps': 100, '_train_distribute': None, '_device_fn': None, '_protocol': None, '_eval_distribute': None, '_experimental_distribute': None, '_experimental_max_worker_delay_secs': None, '_session_creation_timeout_secs': 7200, '_service': None, '_cluster_spec': ClusterSpec({}), '_task_type': 'worker', '_task_id': 0, '_global_id_in_cluster': 0, '_master': '', '_evaluation_master': '', '_is_chief': True, '_num_ps_replicas': 0, '_num_worker_replicas': 1}\n",
            "WARNING:tensorflow:From /usr/local/lib/python3.6/dist-packages/tensorflow/python/training/training_util.py:236: Variable.initialized_value (from tensorflow.python.ops.variables) is deprecated and will be removed in a future version.\n",
            "Instructions for updating:\n",
            "Use Variable.read_value. Variables in 2.X are initialized automatically both in eager and graph (inside tf.defun) contexts.\n",
            "INFO:tensorflow:Calling model_fn.\n",
            "WARNING:tensorflow:From /usr/local/lib/python3.6/dist-packages/tensorflow/python/keras/optimizer_v2/adagrad.py:83: calling Constant.__init__ (from tensorflow.python.ops.init_ops) with dtype is deprecated and will be removed in a future version.\n",
            "Instructions for updating:\n",
            "Call initializer instance with the dtype argument instead of passing it to the constructor\n",
            "INFO:tensorflow:Done calling model_fn.\n",
            "INFO:tensorflow:Create CheckpointSaverHook.\n",
            "INFO:tensorflow:Graph was finalized.\n",
            "INFO:tensorflow:Running local_init_op.\n",
            "INFO:tensorflow:Done running local_init_op.\n",
            "INFO:tensorflow:Calling checkpoint listeners before saving checkpoint 0...\n",
            "INFO:tensorflow:Saving checkpoints for 0 into /tmp/tmp05z9v_y7/model.ckpt.\n",
            "INFO:tensorflow:Calling checkpoint listeners after saving checkpoint 0...\n",
            "INFO:tensorflow:loss = 90.779396, step = 0\n",
            "INFO:tensorflow:global_step/sec: 286.52\n",
            "INFO:tensorflow:loss = 2.5342603, step = 100 (0.352 sec)\n",
            "INFO:tensorflow:global_step/sec: 330.582\n",
            "INFO:tensorflow:loss = 0.8356915, step = 200 (0.302 sec)\n",
            "INFO:tensorflow:global_step/sec: 353.729\n",
            "INFO:tensorflow:loss = 0.5076154, step = 300 (0.282 sec)\n",
            "INFO:tensorflow:global_step/sec: 340.683\n",
            "INFO:tensorflow:loss = 0.3722438, step = 400 (0.294 sec)\n",
            "INFO:tensorflow:global_step/sec: 332.916\n",
            "INFO:tensorflow:loss = 0.30951947, step = 500 (0.300 sec)\n",
            "INFO:tensorflow:global_step/sec: 348.252\n",
            "INFO:tensorflow:loss = 0.24214637, step = 600 (0.287 sec)\n",
            "INFO:tensorflow:global_step/sec: 337.892\n",
            "INFO:tensorflow:loss = 0.21399854, step = 700 (0.295 sec)\n",
            "INFO:tensorflow:global_step/sec: 349.122\n",
            "INFO:tensorflow:loss = 0.18418851, step = 800 (0.288 sec)\n",
            "INFO:tensorflow:global_step/sec: 337.032\n",
            "INFO:tensorflow:loss = 0.17120863, step = 900 (0.297 sec)\n",
            "INFO:tensorflow:global_step/sec: 348.811\n",
            "INFO:tensorflow:loss = 0.15044029, step = 1000 (0.284 sec)\n",
            "INFO:tensorflow:global_step/sec: 350.273\n",
            "INFO:tensorflow:loss = 0.1251966, step = 1100 (0.288 sec)\n",
            "INFO:tensorflow:global_step/sec: 338.963\n",
            "INFO:tensorflow:loss = 0.123990275, step = 1200 (0.294 sec)\n",
            "WARNING:tensorflow:It seems that global step (tf.train.get_global_step) has not been increased. Current value (could be stable): 1296 vs previous value: 1296. You could increase the global step by passing tf.train.get_global_step() to Optimizer.apply_gradients or Optimizer.minimize.\n",
            "INFO:tensorflow:global_step/sec: 344.223\n",
            "INFO:tensorflow:loss = 0.108192906, step = 1300 (0.291 sec)\n",
            "INFO:tensorflow:global_step/sec: 349.723\n",
            "INFO:tensorflow:loss = 0.10054886, step = 1400 (0.285 sec)\n",
            "WARNING:tensorflow:It seems that global step (tf.train.get_global_step) has not been increased. Current value (could be stable): 1445 vs previous value: 1445. You could increase the global step by passing tf.train.get_global_step() to Optimizer.apply_gradients or Optimizer.minimize.\n",
            "INFO:tensorflow:global_step/sec: 343.716\n",
            "INFO:tensorflow:loss = 0.09420691, step = 1500 (0.292 sec)\n",
            "INFO:tensorflow:global_step/sec: 340.845\n",
            "INFO:tensorflow:loss = 0.088958204, step = 1600 (0.294 sec)\n",
            "INFO:tensorflow:global_step/sec: 351.167\n",
            "INFO:tensorflow:loss = 0.08123266, step = 1700 (0.283 sec)\n",
            "INFO:tensorflow:global_step/sec: 345.028\n",
            "INFO:tensorflow:loss = 0.07868329, step = 1800 (0.291 sec)\n",
            "INFO:tensorflow:global_step/sec: 346.728\n",
            "INFO:tensorflow:loss = 0.074096, step = 1900 (0.288 sec)\n",
            "INFO:tensorflow:global_step/sec: 341.611\n",
            "INFO:tensorflow:loss = 0.06585468, step = 2000 (0.293 sec)\n",
            "INFO:tensorflow:global_step/sec: 345.944\n",
            "INFO:tensorflow:loss = 0.063605025, step = 2100 (0.289 sec)\n",
            "INFO:tensorflow:global_step/sec: 354.861\n",
            "INFO:tensorflow:loss = 0.05240195, step = 2200 (0.281 sec)\n",
            "INFO:tensorflow:global_step/sec: 338.641\n",
            "INFO:tensorflow:loss = 0.048912395, step = 2300 (0.295 sec)\n",
            "INFO:tensorflow:global_step/sec: 326.154\n",
            "INFO:tensorflow:loss = 0.0412196, step = 2400 (0.307 sec)\n",
            "INFO:tensorflow:global_step/sec: 347.635\n",
            "INFO:tensorflow:loss = 0.041159406, step = 2500 (0.287 sec)\n",
            "INFO:tensorflow:global_step/sec: 342.89\n",
            "INFO:tensorflow:loss = 0.04020306, step = 2600 (0.292 sec)\n",
            "INFO:tensorflow:global_step/sec: 356.153\n",
            "INFO:tensorflow:loss = 0.036591735, step = 2700 (0.280 sec)\n",
            "INFO:tensorflow:global_step/sec: 333.542\n",
            "INFO:tensorflow:loss = 0.0321418, step = 2800 (0.302 sec)\n",
            "INFO:tensorflow:global_step/sec: 336.482\n",
            "INFO:tensorflow:loss = 0.032913025, step = 2900 (0.297 sec)\n",
            "INFO:tensorflow:global_step/sec: 337.172\n",
            "INFO:tensorflow:loss = 0.031452622, step = 3000 (0.296 sec)\n",
            "INFO:tensorflow:global_step/sec: 343.382\n",
            "INFO:tensorflow:loss = 0.031007, step = 3100 (0.291 sec)\n",
            "WARNING:tensorflow:It seems that global step (tf.train.get_global_step) has not been increased. Current value (could be stable): 3134 vs previous value: 3134. You could increase the global step by passing tf.train.get_global_step() to Optimizer.apply_gradients or Optimizer.minimize.\n",
            "INFO:tensorflow:global_step/sec: 318.186\n",
            "INFO:tensorflow:loss = 0.026905458, step = 3200 (0.315 sec)\n",
            "INFO:tensorflow:global_step/sec: 339.173\n",
            "INFO:tensorflow:loss = 0.027053284, step = 3300 (0.294 sec)\n",
            "INFO:tensorflow:global_step/sec: 345.848\n",
            "INFO:tensorflow:loss = 0.027679777, step = 3400 (0.288 sec)\n",
            "INFO:tensorflow:global_step/sec: 333.388\n",
            "INFO:tensorflow:loss = 0.025942393, step = 3500 (0.298 sec)\n",
            "INFO:tensorflow:global_step/sec: 344.933\n",
            "INFO:tensorflow:loss = 0.025477836, step = 3600 (0.290 sec)\n",
            "INFO:tensorflow:global_step/sec: 350.133\n",
            "INFO:tensorflow:loss = 0.025774732, step = 3700 (0.287 sec)\n",
            "INFO:tensorflow:global_step/sec: 345.503\n",
            "INFO:tensorflow:loss = 0.022505598, step = 3800 (0.291 sec)\n",
            "INFO:tensorflow:global_step/sec: 346.927\n",
            "INFO:tensorflow:loss = 0.023165023, step = 3900 (0.288 sec)\n",
            "INFO:tensorflow:global_step/sec: 332.007\n",
            "INFO:tensorflow:loss = 0.02210675, step = 4000 (0.302 sec)\n",
            "INFO:tensorflow:global_step/sec: 349.066\n",
            "INFO:tensorflow:loss = 0.022408236, step = 4100 (0.285 sec)\n",
            "INFO:tensorflow:global_step/sec: 340.479\n",
            "INFO:tensorflow:loss = 0.020461837, step = 4200 (0.292 sec)\n",
            "INFO:tensorflow:global_step/sec: 339.861\n",
            "INFO:tensorflow:loss = 0.020126518, step = 4300 (0.297 sec)\n",
            "INFO:tensorflow:global_step/sec: 350.236\n",
            "INFO:tensorflow:loss = 0.020069065, step = 4400 (0.284 sec)\n",
            "INFO:tensorflow:global_step/sec: 340.807\n",
            "INFO:tensorflow:loss = 0.019623226, step = 4500 (0.293 sec)\n",
            "INFO:tensorflow:global_step/sec: 353.324\n",
            "INFO:tensorflow:loss = 0.019579237, step = 4600 (0.282 sec)\n",
            "INFO:tensorflow:global_step/sec: 339.134\n",
            "INFO:tensorflow:loss = 0.018506333, step = 4700 (0.295 sec)\n",
            "INFO:tensorflow:global_step/sec: 346.583\n",
            "INFO:tensorflow:loss = 0.016586408, step = 4800 (0.290 sec)\n",
            "INFO:tensorflow:global_step/sec: 346.819\n",
            "INFO:tensorflow:loss = 0.016809031, step = 4900 (0.287 sec)\n",
            "INFO:tensorflow:Calling checkpoint listeners before saving checkpoint 5000...\n",
            "INFO:tensorflow:Saving checkpoints for 5000 into /tmp/tmp05z9v_y7/model.ckpt.\n",
            "INFO:tensorflow:Calling checkpoint listeners after saving checkpoint 5000...\n",
            "INFO:tensorflow:Loss for final step: 0.01774881.\n"
          ],
          "name": "stdout"
        },
        {
          "output_type": "execute_result",
          "data": {
            "text/plain": [
              "<tensorflow_estimator.python.estimator.canned.dnn.DNNClassifierV2 at 0x7f3eb9b40898>"
            ]
          },
          "metadata": {
            "tags": []
          },
          "execution_count": 6
        }
      ]
    },
    {
      "cell_type": "code",
      "metadata": {
        "colab_type": "code",
        "id": "tyhsh4uEyR14",
        "colab": {
          "base_uri": "https://localhost:8080/",
          "height": 272
        },
        "outputId": "894419e4-e3d6-4e63-de3b-e79ef4471cc7"
      },
      "source": [
        "\n",
        "eval_result = classifier.evaluate(\n",
        "    input_fn=lambda: input_fn(test, test_y, training=False))\n",
        "\n",
        "print('\\nTest set accuracy: {accuracy:0.3f}\\n'.format(**eval_result))\n",
        "\n"
      ],
      "execution_count": 7,
      "outputs": [
        {
          "output_type": "stream",
          "text": [
            "INFO:tensorflow:Calling model_fn.\n",
            "INFO:tensorflow:Done calling model_fn.\n",
            "INFO:tensorflow:Starting evaluation at 2020-08-05T20:45:21Z\n",
            "INFO:tensorflow:Graph was finalized.\n",
            "INFO:tensorflow:Restoring parameters from /tmp/tmp05z9v_y7/model.ckpt-5000\n",
            "INFO:tensorflow:Running local_init_op.\n",
            "INFO:tensorflow:Done running local_init_op.\n",
            "INFO:tensorflow:Inference Time : 0.24934s\n",
            "INFO:tensorflow:Finished evaluation at 2020-08-05-20:45:22\n",
            "INFO:tensorflow:Saving dict for global step 5000: accuracy = 1.0, average_loss = 0.01398053, global_step = 5000, loss = 0.01398053\n",
            "INFO:tensorflow:Saving 'checkpoint_path' summary for global step 5000: /tmp/tmp05z9v_y7/model.ckpt-5000\n",
            "\n",
            "Test set accuracy: 1.000\n",
            "\n"
          ],
          "name": "stdout"
        }
      ]
    },
    {
      "cell_type": "code",
      "metadata": {
        "id": "gJmGbyipGh4p",
        "colab_type": "code",
        "colab": {
          "base_uri": "https://localhost:8080/",
          "height": 272
        },
        "outputId": "69cd0900-5240-4e0e-eb32-306d9fa659b2"
      },
      "source": [
        "def input_fn(features, batch_size=256):\n",
        "    # Convert the inputs to a Dataset without labels.\n",
        "    return tf.data.Dataset.from_tensor_slices(dict(features)).batch(batch_size)\n",
        "\n",
        "features = ['sensor1', 'sensor2', 'sensor3', 'sensor4', 'sensor5', 'sensor6']\n",
        "predict = {}\n",
        "\n",
        "\n",
        "print(\"Please type numeric values as prompted.\")\n",
        "for feature in features:\n",
        "  valid = True\n",
        "  while valid: \n",
        "    val = input(feature + \": \")\n",
        "    if not val.isdigit(): valid = False\n",
        "\n",
        "  predict[feature] = [float(val)]\n",
        "output = [\"alf\", \"beh\",\"cad\",\"cen\",\"dal\",\"gem\", \"lam\",\"mem\",\"teh\",\"yeh\"]\n",
        "predictions = classifier.predict(input_fn=lambda: input_fn(predict))\n",
        "for pred_dict in predictions:\n",
        "    class_id = pred_dict['class_ids'][0]\n",
        "    probability = pred_dict['probabilities'][class_id]\n",
        "    \n",
        "\n",
        "\n",
        "    print('Prediction is \"{}\" ({:.1f}%)'.format(\n",
        "        output[class_id], 100 * probability))\n"
      ],
      "execution_count": 9,
      "outputs": [
        {
          "output_type": "stream",
          "text": [
            "Please type numeric values as prompted.\n",
            "sensor1: 810.0\n",
            "sensor2: 799.0\n",
            "sensor3: 595.0\n",
            "sensor4: 645.0\n",
            "sensor5: 765.0\n",
            "sensor6: -80.0\n",
            "INFO:tensorflow:Calling model_fn.\n",
            "INFO:tensorflow:Done calling model_fn.\n",
            "INFO:tensorflow:Graph was finalized.\n",
            "INFO:tensorflow:Restoring parameters from /tmp/tmp05z9v_y7/model.ckpt-5000\n",
            "INFO:tensorflow:Running local_init_op.\n",
            "INFO:tensorflow:Done running local_init_op.\n",
            "Prediction is \"lam\" (96.0%)\n"
          ],
          "name": "stdout"
        }
      ]
    },
    {
      "cell_type": "code",
      "metadata": {
        "id": "L4Et4VBTyKxG",
        "colab_type": "code",
        "colab": {
          "base_uri": "https://localhost:8080/",
          "height": 146
        },
        "outputId": "03ab9837-0905-4c08-8c0c-b26d6a0f9e37"
      },
      "source": [
        "print(pred_dict)"
      ],
      "execution_count": 10,
      "outputs": [
        {
          "output_type": "stream",
          "text": [
            "{'logits': array([  2.6431017,  -5.9038296,  -1.7018799,   4.3618646,   4.050804 ,\n",
            "         5.690227 ,  11.481062 , -21.564333 ,   3.0726857,   8.191794 ],\n",
            "      dtype=float32), 'probabilities': array([1.3925458e-04, 2.7034876e-08, 1.8063758e-06, 7.7670970e-04,\n",
            "       5.6907156e-04, 2.9319678e-03, 9.5959252e-01, 4.2722258e-15,\n",
            "       2.1398101e-04, 3.5774708e-02], dtype=float32), 'class_ids': array([6]), 'classes': array([b'6'], dtype=object), 'all_class_ids': array([0, 1, 2, 3, 4, 5, 6, 7, 8, 9], dtype=int32), 'all_classes': array([b'0', b'1', b'2', b'3', b'4', b'5', b'6', b'7', b'8', b'9'],\n",
            "      dtype=object)}\n"
          ],
          "name": "stdout"
        }
      ]
    },
    {
      "cell_type": "code",
      "metadata": {
        "id": "C_Hfs2JSA2EK",
        "colab_type": "code",
        "colab": {}
      },
      "source": [
        "\"\"\"\n",
        "le = preprocessing.LabelEncoder()\n",
        "output = le.fit_transform(list(df[\"output\"]))\n",
        "sensor1 = le.fit_transform(list(df[\"sensor1\"]))\n",
        "sensor2 = le.fit_transform(list(df[\"sensor2\"]))\n",
        "sensor3 = le.fit_transform(list(df[\"sensor3\"]))\n",
        "sensor4 = le.fit_transform(list(df[\"sensor4\"]))\n",
        "sensor5 = le.fit_transform(list(df[\"sensor5\"]))\n",
        "sensor6 = le.fit_transform(list(df[\"sensor6\"]))\n",
        "\n",
        "\n",
        "\n",
        "\n",
        "x = list(zip(sensor1, sensor2, sensor3, sensor4, sensor5, sensor6))  # features\n",
        "y = list(output)  # labels\n",
        "\n",
        "x_train, x_test, y_train, y_test = sklearn.model_selection.train_test_split(x, y, test_size = 0.5)\n",
        "\n",
        "\n",
        "model = KNeighborsClassifier(n_neighbors=9)\n",
        "model.fit(x_train, y_train)\n",
        "\n",
        "acc = model.score(x_test, y_test)\n",
        "print(acc)\n",
        "\n",
        "predicted = model.predict(x_test)\n",
        "names = [\"a\", \"b\", \"c\", \"d\", \"e\", \"f\",\"e\", \"g\", \"h\", \"q\"]\n",
        "\n",
        "for x in range(len(predicted)):\n",
        "    print(\"Predicted: \", names[predicted[x]], \"Data: \", x_test[x], \"Actual: \", names[y_test[x]])\n",
        "  #  n = model.kneighbors([x_test[x]], 9, True)\n",
        "   # print(\"N: \", n)\n",
        "\n",
        "\n",
        "\n",
        "\"\"\"\n",
        "\n",
        "\n"
      ],
      "execution_count": null,
      "outputs": []
    },
    {
      "cell_type": "code",
      "metadata": {
        "id": "lIqgzqh3Jk30",
        "colab_type": "code",
        "colab": {}
      },
      "source": [
        ""
      ],
      "execution_count": null,
      "outputs": []
    }
  ]
}